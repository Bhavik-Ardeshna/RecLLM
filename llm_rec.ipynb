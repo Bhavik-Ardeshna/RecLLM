{
 "cells": [
  {
   "cell_type": "code",
   "execution_count": 7,
   "metadata": {},
   "outputs": [],
   "source": [
    "from engine import agent\n",
    "import pandas as pd"
   ]
  },
  {
   "cell_type": "code",
   "execution_count": 2,
   "metadata": {},
   "outputs": [
    {
     "name": "stderr",
     "output_type": "stream",
     "text": [
      "/Users/bhavikardeshna/miniconda3/envs/video-rag/lib/python3.10/site-packages/transformers/tokenization_utils_base.py:1601: FutureWarning: `clean_up_tokenization_spaces` was not set. It will be set to `True` by default. This behavior will be depracted in transformers v4.45, and will be then set to `False` by default. For more details check this issue: https://github.com/huggingface/transformers/issues/31884\n",
      "  warnings.warn(\n"
     ]
    }
   ],
   "source": [
    "myagent = agent(groq_api_key='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')"
   ]
  },
  {
   "cell_type": "code",
   "execution_count": 14,
   "metadata": {},
   "outputs": [],
   "source": [
    "product_list = [\n",
    "    \"toothpaste\", \n",
    "    \"shampoo\", \n",
    "    \"conditioner\", \n",
    "    \"laptop\", \n",
    "    \"phone charger\"\n",
    "    \"pizza\",\n",
    "    \"coldrink\",\n",
    "    \"garlic sauce\"\n",
    "]\n"
   ]
  },
  {
   "cell_type": "code",
   "execution_count": 15,
   "metadata": {},
   "outputs": [
    {
     "name": "stderr",
     "output_type": "stream",
     "text": [
      "100%|██████████| 7/7 [00:00<00:00, 50.23it/s]\n"
     ]
    }
   ],
   "source": [
    "df_encoded = myagent.encode_products(product_list)\n",
    "df_encoded.to_parquet('data/df_encoded.parquet', index=None)"
   ]
  },
  {
   "cell_type": "code",
   "execution_count": 16,
   "metadata": {},
   "outputs": [],
   "source": [
    "# in case you want to skip the encoding process, upload encoded products from parquet to save time\n",
    "df_encoded = pd.read_parquet('data/df_encoded.parquet')\n",
    "myagent.upload_encoded_products(df_encoded)"
   ]
  },
  {
   "cell_type": "code",
   "execution_count": 17,
   "metadata": {},
   "outputs": [
    {
     "data": {
      "text/html": [
       "<div>\n",
       "<style scoped>\n",
       "    .dataframe tbody tr th:only-of-type {\n",
       "        vertical-align: middle;\n",
       "    }\n",
       "\n",
       "    .dataframe tbody tr th {\n",
       "        vertical-align: top;\n",
       "    }\n",
       "\n",
       "    .dataframe thead th {\n",
       "        text-align: right;\n",
       "    }\n",
       "</style>\n",
       "<table border=\"1\" class=\"dataframe\">\n",
       "  <thead>\n",
       "    <tr style=\"text-align: right;\">\n",
       "      <th></th>\n",
       "      <th>index</th>\n",
       "      <th>product_name</th>\n",
       "      <th>llm_product</th>\n",
       "      <th>recommended_product</th>\n",
       "      <th>reasoning</th>\n",
       "      <th>similarity_score</th>\n",
       "      <th>score</th>\n",
       "    </tr>\n",
       "  </thead>\n",
       "  <tbody>\n",
       "    <tr>\n",
       "      <th>0</th>\n",
       "      <td>NaN</td>\n",
       "      <td>pizza</td>\n",
       "      <td>NaN</td>\n",
       "      <td>laptop</td>\n",
       "      <td>not complementary</td>\n",
       "      <td>NaN</td>\n",
       "      <td>0</td>\n",
       "    </tr>\n",
       "    <tr>\n",
       "      <th>1</th>\n",
       "      <td>3.0</td>\n",
       "      <td>pizza</td>\n",
       "      <td>Beer</td>\n",
       "      <td>shampoo</td>\n",
       "      <td>not complementary</td>\n",
       "      <td>0.6</td>\n",
       "      <td>0</td>\n",
       "    </tr>\n",
       "    <tr>\n",
       "      <th>2</th>\n",
       "      <td>1.0</td>\n",
       "      <td>pizza</td>\n",
       "      <td>Water</td>\n",
       "      <td>coldrink</td>\n",
       "      <td>can be paired as a beverage with pizza</td>\n",
       "      <td>0.4</td>\n",
       "      <td>1</td>\n",
       "    </tr>\n",
       "    <tr>\n",
       "      <th>3</th>\n",
       "      <td>5.0</td>\n",
       "      <td>pizza</td>\n",
       "      <td>Chips and Dip</td>\n",
       "      <td>garlic sauce</td>\n",
       "      <td>can enhance the flavor of pizza</td>\n",
       "      <td>0.7</td>\n",
       "      <td>1</td>\n",
       "    </tr>\n",
       "  </tbody>\n",
       "</table>\n",
       "</div>"
      ],
      "text/plain": [
       "   index product_name    llm_product recommended_product  \\\n",
       "0    NaN        pizza            NaN              laptop   \n",
       "1    3.0        pizza           Beer             shampoo   \n",
       "2    1.0        pizza          Water            coldrink   \n",
       "3    5.0        pizza  Chips and Dip        garlic sauce   \n",
       "\n",
       "                                reasoning  similarity_score  score  \n",
       "0                       not complementary               NaN      0  \n",
       "1                       not complementary               0.6      0  \n",
       "2  can be paired as a beverage with pizza               0.4      1  \n",
       "3         can enhance the flavor of pizza               0.7      1  "
      ]
     },
     "metadata": {},
     "output_type": "display_data"
    }
   ],
   "source": [
    "df_candidates, df_filtered = myagent.find_product_complementaries(['pizza'])\n",
    "display(df_filtered)"
   ]
  },
  {
   "cell_type": "code",
   "execution_count": 18,
   "metadata": {},
   "outputs": [
    {
     "name": "stdout",
     "output_type": "stream",
     "text": [
      "complementary\t ['coldrink', 'garlic sauce']\n",
      "similar\t\t ['garlic sauce', 'toothpaste']\n"
     ]
    }
   ],
   "source": [
    "#we can explore the comparison between complementary and similar products\n",
    "print('complementary\\t', df_filtered[df_filtered['score']==1]['recommended_product'].tolist())\n",
    "print('similar\\t\\t', myagent.search_similar('pizza', k=len(df_filtered[df_filtered['score']==1])))"
   ]
  },
  {
   "cell_type": "code",
   "execution_count": null,
   "metadata": {},
   "outputs": [],
   "source": []
  }
 ],
 "metadata": {
  "language_info": {
   "name": "python"
  }
 },
 "nbformat": 4,
 "nbformat_minor": 2
}
